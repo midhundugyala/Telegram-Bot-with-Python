{
 "cells": [
  {
   "cell_type": "code",
   "execution_count": null,
   "metadata": {},
   "outputs": [],
   "source": [
    "import requests\n",
    "import json\n",
    "def summary(update, context):\n",
    "    response = requests.get('https://api.covid19api.com/summary')\n",
    "    if(response.status_code==200): #Everything went okay, we have the data\n",
    "        data = response.json()\n",
    "        print(data['Global'])\n",
    "        context.bot.send_message(chat_id=update.effective_chat.id, text=data['Global'])\n",
    "    else: #something went wrong\n",
    "        context.bot.send_message(chat_id=update.effective_chat.id, text=\"Error, something went wrong.\")\n",
    "​\n",
    "corona_summary_handler = CommandHandler('summary', summary)\n",
    "dispatcher.add_handler(corona_summary_handler)"
   ]
  }
 ],
 "metadata": {
  "kernelspec": {
   "display_name": "Python 3",
   "language": "python",
   "name": "python3"
  },
  "language_info": {
   "codemirror_mode": {
    "name": "ipython",
    "version": 3
   },
   "file_extension": ".py",
   "mimetype": "text/x-python",
   "name": "python",
   "nbconvert_exporter": "python",
   "pygments_lexer": "ipython3",
   "version": "3.7.1"
  }
 },
 "nbformat": 4,
 "nbformat_minor": 2
}
